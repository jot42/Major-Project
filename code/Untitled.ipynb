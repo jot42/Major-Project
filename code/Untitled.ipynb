{
 "cells": [
  {
   "cell_type": "markdown",
   "id": "5c5c7d8c",
   "metadata": {},
   "source": [
    "# Week starting 31/01/2022\n",
    "\n",
    "This offically starts the Major Project (CS39440), the project is for 'Voice Controlled OpenSCAD'. This notebook will serve as a development log of this project and will demonstrate the project and \n",
    "\n",
    "The goals for the week are:\n",
    "- Gain understanding of the OpenSCAD language and how to use it.\n",
    "- Research potential text to speech engines that can be implemented in python.\n",
    "- Set up development environment\n",
    "- Set up version control using either GitHub or GitLab\n",
    "- Create a plan for the project that outlines "
   ]
  },
  {
   "cell_type": "markdown",
   "id": "a9bdd801",
   "metadata": {},
   "source": [
    "### Date: 01/02/2022\n",
    "\n",
    "- Attended a meeting with the project supervisor (David Jones) and the students that he supervises. We introduced ourselves, and the projects we are working on. We also discussed our plans for the upcoming week and how we plan to start the project.\n",
    "\n",
    "- Initialised this notebook and filled in the information presented above. "
   ]
  },
  {
   "cell_type": "code",
   "execution_count": null,
   "id": "497c51a3",
   "metadata": {},
   "outputs": [],
   "source": []
  },
  {
   "cell_type": "code",
   "execution_count": null,
   "id": "e62c4a52",
   "metadata": {},
   "outputs": [],
   "source": []
  },
  {
   "cell_type": "code",
   "execution_count": null,
   "id": "fb069424",
   "metadata": {},
   "outputs": [],
   "source": []
  },
  {
   "cell_type": "code",
   "execution_count": null,
   "id": "f46ec3ba",
   "metadata": {},
   "outputs": [],
   "source": []
  },
  {
   "cell_type": "code",
   "execution_count": null,
   "id": "176ede80",
   "metadata": {},
   "outputs": [],
   "source": []
  }
 ],
 "metadata": {
  "kernelspec": {
   "display_name": "Python 3 (ipykernel)",
   "language": "python",
   "name": "python3"
  },
  "language_info": {
   "codemirror_mode": {
    "name": "ipython",
    "version": 3
   },
   "file_extension": ".py",
   "mimetype": "text/x-python",
   "name": "python",
   "nbconvert_exporter": "python",
   "pygments_lexer": "ipython3",
   "version": "3.10.2"
  }
 },
 "nbformat": 4,
 "nbformat_minor": 5
}
